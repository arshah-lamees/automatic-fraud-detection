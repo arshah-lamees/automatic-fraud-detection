{
 "cells": [
  {
   "cell_type": "code",
   "execution_count": 1,
   "id": "c93fafd4",
   "metadata": {},
   "outputs": [],
   "source": [
    "import pandas as pd\n",
    "\n",
    "# Path to your dataset \n",
    "file_path = 'data/users_data.csv'\n",
    "\n",
    "# Load the full dataset\n",
    "df = pd.read_csv(file_path)\n"
   ]
  },
  {
   "cell_type": "code",
   "execution_count": 2,
   "id": "e33eba78",
   "metadata": {},
   "outputs": [
    {
     "data": {
      "text/plain": [
       "id                   0\n",
       "current_age          0\n",
       "retirement_age       0\n",
       "birth_year           0\n",
       "birth_month          0\n",
       "gender               0\n",
       "address              0\n",
       "latitude             0\n",
       "longitude            0\n",
       "per_capita_income    0\n",
       "yearly_income        0\n",
       "total_debt           0\n",
       "credit_score         0\n",
       "num_credit_cards     0\n",
       "dtype: int64"
      ]
     },
     "execution_count": 2,
     "metadata": {},
     "output_type": "execute_result"
    }
   ],
   "source": [
    "df.isnull().sum()"
   ]
  },
  {
   "cell_type": "code",
   "execution_count": 3,
   "id": "d2efbdee",
   "metadata": {},
   "outputs": [],
   "source": [
    "# Step 1: Drop rows with any null values\n",
    "\n",
    "# null_rows = df[df.isnull().any(axis=1)]\n",
    "\n",
    "# if not null_rows.empty:\n",
    "#     print(\"Rows with null values (to be dropped):\")\n",
    "#     print(null_rows)\n",
    "# else:\n",
    "#     print(\"No null values found.\")\n",
    "\n",
    "# # Drop rows with nulls\n",
    "\n",
    "# df = df.dropna()\n"
   ]
  },
  {
   "cell_type": "code",
   "execution_count": 4,
   "id": "07a74320",
   "metadata": {},
   "outputs": [
    {
     "data": {
      "text/plain": [
       "np.int64(0)"
      ]
     },
     "execution_count": 4,
     "metadata": {},
     "output_type": "execute_result"
    }
   ],
   "source": [
    "df.duplicated().sum()\n"
   ]
  },
  {
   "cell_type": "code",
   "execution_count": 6,
   "id": "d2a4f062",
   "metadata": {},
   "outputs": [],
   "source": [
    "# # Step 2: Show and drop duplicate rows\n",
    "# duplicates = df[df.duplicated()]\n",
    "# if not duplicates.empty:\n",
    "#     print(\"Duplicate rows found:\")\n",
    "#     print(duplicates)\n",
    "#     df = df.drop_duplicates()\n",
    "# else:\n",
    "#     print(\"No duplicate rows found.\")\n",
    "\n"
   ]
  },
  {
   "cell_type": "code",
   "execution_count": 7,
   "id": "6fc46793",
   "metadata": {},
   "outputs": [
    {
     "name": "stdout",
     "output_type": "stream",
     "text": [
      "Cleaned dataset saved to: data/cleaned data/users_data_cleaned.csv\n"
     ]
    }
   ],
   "source": [
    "# Step 3: Save cleaned dataset\n",
    "df.to_csv('data/users_data_cleaned.csv', index=False)\n",
    "print(\"Cleaned dataset saved to: data/cleaned data/users_data_cleaned.csv\")\n"
   ]
  },
  {
   "cell_type": "code",
   "execution_count": null,
   "id": "c9fdd787",
   "metadata": {},
   "outputs": [],
   "source": []
  },
  {
   "cell_type": "code",
   "execution_count": null,
   "id": "dc589314",
   "metadata": {},
   "outputs": [],
   "source": []
  }
 ],
 "metadata": {
  "kernelspec": {
   "display_name": "Python 3",
   "language": "python",
   "name": "python3"
  },
  "language_info": {
   "codemirror_mode": {
    "name": "ipython",
    "version": 3
   },
   "file_extension": ".py",
   "mimetype": "text/x-python",
   "name": "python",
   "nbconvert_exporter": "python",
   "pygments_lexer": "ipython3",
   "version": "3.12.10"
  }
 },
 "nbformat": 4,
 "nbformat_minor": 5
}
