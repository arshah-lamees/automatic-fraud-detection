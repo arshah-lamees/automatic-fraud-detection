{
 "cells": [
  {
   "cell_type": "code",
   "execution_count": 1,
   "id": "24f4e6fe",
   "metadata": {},
   "outputs": [],
   "source": [
    "import pandas as pd\n",
    "\n",
    "# Path to your new dataset (update the filename)\n",
    "file_path = 'data/cards_data.csv'\n",
    "\n",
    "# Load the full dataset\n",
    "df = pd.read_csv(file_path)\n",
    "\n"
   ]
  },
  {
   "cell_type": "code",
   "execution_count": 2,
   "id": "3eee3b3b",
   "metadata": {},
   "outputs": [
    {
     "data": {
      "text/plain": [
       "id                       0\n",
       "client_id                0\n",
       "card_brand               0\n",
       "card_type                0\n",
       "card_number              0\n",
       "expires                  0\n",
       "cvv                      0\n",
       "has_chip                 0\n",
       "num_cards_issued         0\n",
       "credit_limit             0\n",
       "acct_open_date           0\n",
       "year_pin_last_changed    0\n",
       "card_on_dark_web         0\n",
       "dtype: int64"
      ]
     },
     "execution_count": 2,
     "metadata": {},
     "output_type": "execute_result"
    }
   ],
   "source": [
    "df.isnull().sum()\n"
   ]
  },
  {
   "cell_type": "code",
   "execution_count": 3,
   "id": "96df0f3e",
   "metadata": {},
   "outputs": [],
   "source": [
    "# Step 1: Drop rows with any null values\n",
    "\n",
    "# null_rows = df[df.isnull().any(axis=1)]\n",
    "\n",
    "# if not null_rows.empty:\n",
    "#     print(\"Rows with null values (to be dropped):\")\n",
    "#     print(null_rows)\n",
    "# else:\n",
    "#     print(\"No null values found.\")\n",
    "\n",
    "# # Drop rows with nulls\n",
    "\n",
    "# df = df.dropna()\n",
    "\n"
   ]
  },
  {
   "cell_type": "code",
   "execution_count": 4,
   "id": "db637a28",
   "metadata": {},
   "outputs": [
    {
     "data": {
      "text/plain": [
       "np.int64(0)"
      ]
     },
     "execution_count": 4,
     "metadata": {},
     "output_type": "execute_result"
    }
   ],
   "source": [
    "df.duplicated().sum()\n"
   ]
  },
  {
   "cell_type": "code",
   "execution_count": 5,
   "id": "bf276813",
   "metadata": {},
   "outputs": [],
   "source": [
    "# # Step 2: Show and drop duplicate rows\n",
    "# duplicates = df[df.duplicated()]\n",
    "# if not duplicates.empty:\n",
    "#     print(\"Duplicate rows found:\")\n",
    "#     print(duplicates)\n",
    "#     df = df.drop_duplicates()\n",
    "# else:\n",
    "#     print(\"No duplicate rows found.\")\n",
    "\n"
   ]
  },
  {
   "cell_type": "code",
   "execution_count": 7,
   "id": "258c12cd",
   "metadata": {},
   "outputs": [
    {
     "name": "stdout",
     "output_type": "stream",
     "text": [
      "Cleaned dataset saved to: data/cleaned data/cards_data_cleaned.csv\n"
     ]
    }
   ],
   "source": [
    "# Step 3: Save cleaned dataset\n",
    "df.to_csv('data/cards_data_cleaned.csv', index=False)\n",
    "print(\"Cleaned dataset saved to: data/cleaned data/cards_data_cleaned.csv\")\n"
   ]
  },
  {
   "cell_type": "code",
   "execution_count": null,
   "id": "22d37497",
   "metadata": {},
   "outputs": [],
   "source": []
  },
  {
   "cell_type": "code",
   "execution_count": null,
   "id": "040a09a0",
   "metadata": {},
   "outputs": [],
   "source": []
  }
 ],
 "metadata": {
  "kernelspec": {
   "display_name": "Python 3",
   "language": "python",
   "name": "python3"
  },
  "language_info": {
   "codemirror_mode": {
    "name": "ipython",
    "version": 3
   },
   "file_extension": ".py",
   "mimetype": "text/x-python",
   "name": "python",
   "nbconvert_exporter": "python",
   "pygments_lexer": "ipython3",
   "version": "3.12.10"
  }
 },
 "nbformat": 4,
 "nbformat_minor": 5
}
